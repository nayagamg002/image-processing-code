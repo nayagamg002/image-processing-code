{
 "cells": [
  {
   "cell_type": "code",
   "execution_count": 1,
   "id": "2ecc6704",
   "metadata": {},
   "outputs": [],
   "source": [
    "import numpy as np\n",
    "import math\n",
    "import cv2\n",
    "import matplotlib.pyplot as plt"
   ]
  },
  {
   "cell_type": "code",
   "execution_count": null,
   "id": "ad19da83",
   "metadata": {},
   "outputs": [
    {
     "name": "stdout",
     "output_type": "stream",
     "text": [
      "[ 3.48741445e+00  1.96261000e+00 -2.14450691e+00  2.74747672e+00\n",
      "  3.73204933e+00 -4.01078090e+00  2.60508920e+00  2.74747672e+00\n",
      "  3.07768311e+00 -2.74747751e+00  2.90421143e+00 -2.90421088e+00\n",
      "  4.01078163e+00 -2.86362535e+01  2.14450656e+00 -2.05030388e+00\n",
      "  4.01078163e+00  4.70463200e+00 -5.14455401e+00 -3.48741447e+00\n",
      "  3.27085099e+00  4.33147473e+00 -3.73205070e+00  2.14450656e+00\n",
      "  2.60508920e+00  2.35585221e+00  9.51436128e+00 -2.60508899e+00\n",
      "  3.73204933e+00  5.14455354e+00  5.67127797e+00 -2.47508685e+00\n",
      "  2.47508598e+00  2.47508598e+00  3.48741445e+00 -3.73205070e+00\n",
      " -2.47508685e+00  2.35585221e+00  3.27085099e+00  7.11536583e+00\n",
      "  5.72897904e+01 -2.74747751e+00  1.88072644e+00  4.70463200e+00\n",
      "  5.14455354e+00  6.31375247e+00  9.51436128e+00  5.72897904e+01\n",
      " -5.72899621e+01 -6.31375134e+00 -3.07768345e+00 -2.24603670e+00\n",
      " -9.51436419e+00 -4.33147595e+00  3.07768311e+00  5.72897904e+01\n",
      " -1.90811362e+01  2.60508920e+00 -1.14300526e+01 -4.01078090e+00\n",
      "  2.90421143e+00 -5.72899621e+01 -7.11536978e+00 -3.27085275e+00\n",
      "  2.05030402e+00  8.14435075e+00  8.14435075e+00  9.51436128e+00\n",
      " -1.63312394e+16 -1.63312394e+16 -5.14455401e+00  7.11536583e+00\n",
      " -5.72899621e+01 -1.90811362e+01 -4.70462997e+00  3.27085099e+00\n",
      "  3.73204933e+00  1.14300347e+01 -5.67128199e+00 -2.35585242e+00\n",
      "  2.47508598e+00  2.60508920e+00  5.67127797e+00  8.14435075e+00\n",
      " -3.27085275e+00  2.05030402e+00  4.33147473e+00 -5.72899621e+01\n",
      " -2.24603670e+00  2.47508598e+00  4.01078163e+00  6.31375247e+00\n",
      "  1.43006675e+01  2.86362916e+01  2.86362916e+01  5.72897904e+01\n",
      " -1.14300526e+01 -9.51436419e+00  1.14300347e+01 -4.33147595e+00\n",
      " -2.60508899e+00 -2.05030388e+00  2.24603723e+00  2.24603723e+00]\n"
     ]
    }
   ],
   "source": [
    "# Read the input image\n",
    "img = cv2.imread(\"out67.png\")\n",
    "\n",
    "# Convert the image to grayscale\n",
    "gray = cv2.cvtColor(img, cv2.COLOR_BGR2GRAY)\n",
    "\n",
    "# Apply Canny edge detection to extract edges\n",
    "canny = cv2.Canny(gray, 0, 150)\n",
    "\n",
    "edges=cv2.rotate(canny,cv2.ROTATE_180)\n",
    "\n",
    "\n",
    "# Apply Hough Transform to detect lines\n",
    "lines = cv2.HoughLines(edges, 1, np.pi/180, 100)\n",
    "\n",
    "# Draw the detected lines on the image\n",
    "for line in lines:\n",
    "    rho, theta = line[0]\n",
    "    a = np.cos(theta)\n",
    "    b = np.sin(theta)\n",
    "    x0 = a*rho\n",
    "    y0 = b*rho\n",
    "    x1 = int(x0 + 1000*(-b))\n",
    "    y1 = int(y0 + 1000*(a))\n",
    "    x2 = int(x0 - 1000*(-b))\n",
    "    y2 = int(y0 - 1000*(a))\n",
    "    cv2.line(img, (x1, y1), (x2, y2), (0, 0, 255), 2)\n",
    "\n",
    "# Compute the tangent of each line\n",
    "tangents = np.array([np.tan(theta - np.pi/2) for line in lines for rho, theta in line])\n",
    "\n",
    "# Print the tangents\n",
    "print(tangents)\n",
    "\n",
    "# Display the result\n",
    "cv2.imshow(\"Result\", img)\n",
    "cv2.waitKey(0)\n",
    "cv2.destroyAllWindows()"
   ]
  },
  {
   "cell_type": "code",
   "execution_count": null,
   "id": "081f5515",
   "metadata": {},
   "outputs": [],
   "source": []
  }
 ],
 "metadata": {
  "kernelspec": {
   "display_name": "Python 3 (ipykernel)",
   "language": "python",
   "name": "python3"
  },
  "language_info": {
   "codemirror_mode": {
    "name": "ipython",
    "version": 3
   },
   "file_extension": ".py",
   "mimetype": "text/x-python",
   "name": "python",
   "nbconvert_exporter": "python",
   "pygments_lexer": "ipython3",
   "version": "3.9.13"
  }
 },
 "nbformat": 4,
 "nbformat_minor": 5
}
